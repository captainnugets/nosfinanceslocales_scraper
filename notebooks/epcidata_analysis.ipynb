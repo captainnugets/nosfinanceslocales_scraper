{
 "metadata": {
  "name": "epcidata_analysis"
 },
 "nbformat": 3,
 "nbformat_minor": 0,
 "worksheets": [
  {
   "cells": [
    {
     "cell_type": "markdown",
     "metadata": {},
     "source": [
      "## Analyse des donn\u00e9es EPCI scrap\u00e9es en 2012\n",
      "\n",
      "* nombre d'EPCI \u00e0 fiscalit\u00e9 propre attendu: 2583 ([wikipedia](http://fr.wikipedia.org/wiki/%C3%89tablissement_public_de_coop%C3%A9ration_intercommunale))\n"
     ]
    },
    {
     "cell_type": "code",
     "collapsed": false,
     "input": [
      "import json\n",
      "import os\n",
      "import pandas as pd\n",
      "\n",
      "data_dir = '../scraped_data/'\n"
     ],
     "language": "python",
     "metadata": {},
     "outputs": [],
     "prompt_number": 1
    },
    {
     "cell_type": "code",
     "collapsed": false,
     "input": [
      "# Load data on 2012\n",
      "df = pd.DataFrame(json.load(open(os.path.join(data_dir, 'epci_2012.json'))))"
     ],
     "language": "python",
     "metadata": {},
     "outputs": [],
     "prompt_number": 2
    },
    {
     "cell_type": "code",
     "collapsed": false,
     "input": [
      "df.columns"
     ],
     "language": "python",
     "metadata": {},
     "outputs": [
      {
       "output_type": "pyout",
       "prompt_number": 3,
       "text": [
        "Index([u'additionnal_land_property_tax', u'allocation', u'business_network_tax', u'business_property_contribution', u'debt_annual_costs', u'debt_at_end_year', u'debt_repayment_capacity', u'debt_repayments', u'facilities_expenses', u'fctva', u'financial_costs', u'home_tax', u'investment_ressources', u'investments_usage', u'land_property_tax', u'loans', u'localtax', u'name', u'net_profit', u'operating_costs', u'operating_revenues', u'other_tax', u'paid_subsidies', u'population', u'property_tax', u'purchases_and_external_costs', u'received_subsidies', u'retail_land_tax', u'self_financing_capacity', u'siren', u'staff_costs', u'tax_refund', u'year', u'zone_type'], dtype=object)"
       ]
      }
     ],
     "prompt_number": 3
    },
    {
     "cell_type": "code",
     "collapsed": false,
     "input": [
      "df['debt_ratio'] = df['debt_annual_costs']/df['operating_revenues']\n",
      "df['staff_costs_ratio'] = df['staff_costs']/df['operating_revenues']"
     ],
     "language": "python",
     "metadata": {},
     "outputs": [],
     "prompt_number": 12
    },
    {
     "cell_type": "code",
     "collapsed": false,
     "input": [
      "print \"Nombre d'EPCI crawl\u00e9s: %s\"%df['siren'].count()"
     ],
     "language": "python",
     "metadata": {},
     "outputs": [
      {
       "output_type": "stream",
       "stream": "stdout",
       "text": [
        "Nombre d'EPCI crawl\u00e9s: 2263\n"
       ]
      }
     ],
     "prompt_number": 10
    },
    {
     "cell_type": "code",
     "collapsed": false,
     "input": [
      "# Biggest property tax rate\n",
      "_df = df.sort(columns='debt_ratio', ascending=False)\n",
      "_df[['debt_ratio', 'name']].head(n=20)"
     ],
     "language": "python",
     "metadata": {},
     "outputs": [
      {
       "html": [
        "<div style=\"max-height:1000px;max-width:1500px;overflow:auto;\">\n",
        "<table border=\"1\" class=\"dataframe\">\n",
        "  <thead>\n",
        "    <tr style=\"text-align: right;\">\n",
        "      <th></th>\n",
        "      <th>debt_ratio</th>\n",
        "      <th>name</th>\n",
        "    </tr>\n",
        "  </thead>\n",
        "  <tbody>\n",
        "    <tr>\n",
        "      <th>688 </th>\n",
        "      <td> 1.292339</td>\n",
        "      <td>          GFP : CC DE CAUSSES ET VEZERE</td>\n",
        "    </tr>\n",
        "    <tr>\n",
        "      <th>362 </th>\n",
        "      <td> 1.158621</td>\n",
        "      <td>         GFP : CC REGION ARCIS-SUR-AUBE</td>\n",
        "    </tr>\n",
        "    <tr>\n",
        "      <th>1982</th>\n",
        "      <td> 0.957323</td>\n",
        "      <td>       GFP : CC LES SOURCES DE L YERRES</td>\n",
        "    </tr>\n",
        "    <tr>\n",
        "      <th>369 </th>\n",
        "      <td> 0.908671</td>\n",
        "      <td>         GFP : CC PORTES DU PAYS D'OTHE</td>\n",
        "    </tr>\n",
        "    <tr>\n",
        "      <th>1577</th>\n",
        "      <td> 0.885283</td>\n",
        "      <td>             GFP : CC NOEUX ET ENVIRONS</td>\n",
        "    </tr>\n",
        "    <tr>\n",
        "      <th>304 </th>\n",
        "      <td> 0.851667</td>\n",
        "      <td>                    GFP : CC DU VINOBRE</td>\n",
        "    </tr>\n",
        "    <tr>\n",
        "      <th>1875</th>\n",
        "      <td> 0.844785</td>\n",
        "      <td>           GFP : CC DES RIVES DE SARTHE</td>\n",
        "    </tr>\n",
        "    <tr>\n",
        "      <th>1041</th>\n",
        "      <td> 0.838875</td>\n",
        "      <td>              GFP : CC CANTON DE PISSOS</td>\n",
        "    </tr>\n",
        "    <tr>\n",
        "      <th>466 </th>\n",
        "      <td> 0.827869</td>\n",
        "      <td>                  GFP : CC PAYS MAURIAC</td>\n",
        "    </tr>\n",
        "    <tr>\n",
        "      <th>201 </th>\n",
        "      <td> 0.744253</td>\n",
        "      <td>              GFP : CC COMBE VAL BRENOD</td>\n",
        "    </tr>\n",
        "    <tr>\n",
        "      <th>620 </th>\n",
        "      <td> 0.713155</td>\n",
        "      <td>                   GFP : CC PAYS D'UZEL</td>\n",
        "    </tr>\n",
        "    <tr>\n",
        "      <th>455 </th>\n",
        "      <td> 0.707654</td>\n",
        "      <td>               GFP : CC DU VAL ES DUNES</td>\n",
        "    </tr>\n",
        "    <tr>\n",
        "      <th>1774</th>\n",
        "      <td> 0.667591</td>\n",
        "      <td> GFP : CC CHAMOUSSET EN LYONNAIS (CCCL)</td>\n",
        "    </tr>\n",
        "    <tr>\n",
        "      <th>1573</th>\n",
        "      <td> 0.655131</td>\n",
        "      <td>        GFP : CC DE LA TERRE DES 2 CAPS</td>\n",
        "    </tr>\n",
        "    <tr>\n",
        "      <th>237 </th>\n",
        "      <td> 0.650256</td>\n",
        "      <td>                GFP : CC DU VAL DE CHER</td>\n",
        "    </tr>\n",
        "    <tr>\n",
        "      <th>16  </th>\n",
        "      <td> 0.624740</td>\n",
        "      <td>                     GFP : CC DU NEBBIU</td>\n",
        "    </tr>\n",
        "    <tr>\n",
        "      <th>255 </th>\n",
        "      <td> 0.617150</td>\n",
        "      <td>                GFP : CC DU SISTERONAIS</td>\n",
        "    </tr>\n",
        "    <tr>\n",
        "      <th>1967</th>\n",
        "      <td> 0.610196</td>\n",
        "      <td>        GFP : SAN SENART VILLE NOUVELLE</td>\n",
        "    </tr>\n",
        "    <tr>\n",
        "      <th>828 </th>\n",
        "      <td> 0.595641</td>\n",
        "      <td>               GFP : CC PETITE CAMARGUE</td>\n",
        "    </tr>\n",
        "    <tr>\n",
        "      <th>1980</th>\n",
        "      <td> 0.594412</td>\n",
        "      <td>       GFP : CA DU PAYS DE MEAUX (CAPM)</td>\n",
        "    </tr>\n",
        "  </tbody>\n",
        "</table>\n",
        "</div>"
       ],
       "output_type": "pyout",
       "prompt_number": 15,
       "text": [
        "      debt_ratio                                    name\n",
        "688     1.292339           GFP : CC DE CAUSSES ET VEZERE\n",
        "362     1.158621          GFP : CC REGION ARCIS-SUR-AUBE\n",
        "1982    0.957323        GFP : CC LES SOURCES DE L YERRES\n",
        "369     0.908671          GFP : CC PORTES DU PAYS D'OTHE\n",
        "1577    0.885283              GFP : CC NOEUX ET ENVIRONS\n",
        "304     0.851667                     GFP : CC DU VINOBRE\n",
        "1875    0.844785            GFP : CC DES RIVES DE SARTHE\n",
        "1041    0.838875               GFP : CC CANTON DE PISSOS\n",
        "466     0.827869                   GFP : CC PAYS MAURIAC\n",
        "201     0.744253               GFP : CC COMBE VAL BRENOD\n",
        "620     0.713155                    GFP : CC PAYS D'UZEL\n",
        "455     0.707654                GFP : CC DU VAL ES DUNES\n",
        "1774    0.667591  GFP : CC CHAMOUSSET EN LYONNAIS (CCCL)\n",
        "1573    0.655131         GFP : CC DE LA TERRE DES 2 CAPS\n",
        "237     0.650256                 GFP : CC DU VAL DE CHER\n",
        "16      0.624740                      GFP : CC DU NEBBIU\n",
        "255     0.617150                 GFP : CC DU SISTERONAIS\n",
        "1967    0.610196         GFP : SAN SENART VILLE NOUVELLE\n",
        "828     0.595641                GFP : CC PETITE CAMARGUE\n",
        "1980    0.594412        GFP : CA DU PAYS DE MEAUX (CAPM)"
       ]
      }
     ],
     "prompt_number": 15
    },
    {
     "cell_type": "code",
     "collapsed": false,
     "input": [],
     "language": "python",
     "metadata": {},
     "outputs": []
    }
   ],
   "metadata": {}
  }
 ]
}